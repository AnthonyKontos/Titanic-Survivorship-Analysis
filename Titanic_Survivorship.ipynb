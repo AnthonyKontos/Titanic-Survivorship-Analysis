{
 "cells": [
  {
   "cell_type": "code",
   "execution_count": 1,
   "metadata": {},
   "outputs": [],
   "source": [
    "NAME = \"Anthony Kontos\""
   ]
  },
  {
   "cell_type": "markdown",
   "metadata": {},
   "source": [
    "Analyzing Titanic Surivorship"
   ]
  },
  {
   "cell_type": "markdown",
   "metadata": {},
   "source": [
    "For this assignment, we will analyze data on the passengers aboard the Titanic.\n",
    "\n",
    "Use the .csv file provided. The definition of all variables can be found below:\n",
    "\n",
    "- survival --> Survival --> 0 = No, 1 = Yes\n",
    "- pclass --> Ticket class --> 1 = 1st, 2 = 2nd, 3 = 3rd\n",
    "- sex --> Sex --> M = Male, F = Female\n",
    "- Age --> Age in years\n",
    "- sibsp --> # of siblings / spouses aboard the Titanic\n",
    "- parch --> # of parents / children aboard the Titanic\n",
    "- ticket --> Ticket number\n",
    "- fare --> Passenger fare --> Price paid for the fare\n",
    "- cabin --> Cabin number\n",
    "- embarked --> Port of Embarkation --> C = Cherbourg, Q = Queenstown, S = Southampton\n",
    "\n",
    "The main purpose of this analysis is to identify which passengers were more likely to survive the Titanic."
   ]
  },
  {
   "cell_type": "code",
   "execution_count": 46,
   "metadata": {},
   "outputs": [],
   "source": [
    "#import the data\n",
    "import pandas as pd\n",
    "df=pd.read_csv('TitanicData.csv')"
   ]
  },
  {
   "cell_type": "code",
   "execution_count": 5,
   "metadata": {},
   "outputs": [
    {
     "name": "stdout",
     "output_type": "stream",
     "text": [
      "<class 'pandas.core.frame.DataFrame'>\n",
      "RangeIndex: 714 entries, 0 to 713\n",
      "Data columns (total 12 columns):\n",
      " #   Column       Non-Null Count  Dtype  \n",
      "---  ------       --------------  -----  \n",
      " 0   PassengerId  714 non-null    int64  \n",
      " 1   Survived     714 non-null    int64  \n",
      " 2   Pclass       714 non-null    int64  \n",
      " 3   Name         714 non-null    object \n",
      " 4   Sex          714 non-null    object \n",
      " 5   Age          714 non-null    float64\n",
      " 6   SibSp        714 non-null    int64  \n",
      " 7   Parch        714 non-null    int64  \n",
      " 8   Ticket       714 non-null    object \n",
      " 9   Fare         714 non-null    float64\n",
      " 10  Cabin        185 non-null    object \n",
      " 11  Embarked     712 non-null    object \n",
      "dtypes: float64(2), int64(5), object(5)\n",
      "memory usage: 67.1+ KB\n"
     ]
    },
    {
     "data": {
      "text/html": [
       "<div>\n",
       "<style scoped>\n",
       "    .dataframe tbody tr th:only-of-type {\n",
       "        vertical-align: middle;\n",
       "    }\n",
       "\n",
       "    .dataframe tbody tr th {\n",
       "        vertical-align: top;\n",
       "    }\n",
       "\n",
       "    .dataframe thead th {\n",
       "        text-align: right;\n",
       "    }\n",
       "</style>\n",
       "<table border=\"1\" class=\"dataframe\">\n",
       "  <thead>\n",
       "    <tr style=\"text-align: right;\">\n",
       "      <th></th>\n",
       "      <th>PassengerId</th>\n",
       "      <th>Survived</th>\n",
       "      <th>Pclass</th>\n",
       "      <th>Age</th>\n",
       "      <th>SibSp</th>\n",
       "      <th>Parch</th>\n",
       "      <th>Fare</th>\n",
       "    </tr>\n",
       "  </thead>\n",
       "  <tbody>\n",
       "    <tr>\n",
       "      <th>count</th>\n",
       "      <td>714.000000</td>\n",
       "      <td>714.000000</td>\n",
       "      <td>714.000000</td>\n",
       "      <td>714.000000</td>\n",
       "      <td>714.000000</td>\n",
       "      <td>714.000000</td>\n",
       "      <td>714.000000</td>\n",
       "    </tr>\n",
       "    <tr>\n",
       "      <th>mean</th>\n",
       "      <td>448.582633</td>\n",
       "      <td>0.406162</td>\n",
       "      <td>2.236695</td>\n",
       "      <td>29.699118</td>\n",
       "      <td>0.512605</td>\n",
       "      <td>0.431373</td>\n",
       "      <td>34.694514</td>\n",
       "    </tr>\n",
       "    <tr>\n",
       "      <th>std</th>\n",
       "      <td>259.119524</td>\n",
       "      <td>0.491460</td>\n",
       "      <td>0.838250</td>\n",
       "      <td>14.526497</td>\n",
       "      <td>0.929783</td>\n",
       "      <td>0.853289</td>\n",
       "      <td>52.918930</td>\n",
       "    </tr>\n",
       "    <tr>\n",
       "      <th>min</th>\n",
       "      <td>1.000000</td>\n",
       "      <td>0.000000</td>\n",
       "      <td>1.000000</td>\n",
       "      <td>0.420000</td>\n",
       "      <td>0.000000</td>\n",
       "      <td>0.000000</td>\n",
       "      <td>0.000000</td>\n",
       "    </tr>\n",
       "    <tr>\n",
       "      <th>25%</th>\n",
       "      <td>222.250000</td>\n",
       "      <td>0.000000</td>\n",
       "      <td>1.000000</td>\n",
       "      <td>20.125000</td>\n",
       "      <td>0.000000</td>\n",
       "      <td>0.000000</td>\n",
       "      <td>8.050000</td>\n",
       "    </tr>\n",
       "    <tr>\n",
       "      <th>50%</th>\n",
       "      <td>445.000000</td>\n",
       "      <td>0.000000</td>\n",
       "      <td>2.000000</td>\n",
       "      <td>28.000000</td>\n",
       "      <td>0.000000</td>\n",
       "      <td>0.000000</td>\n",
       "      <td>15.741700</td>\n",
       "    </tr>\n",
       "    <tr>\n",
       "      <th>75%</th>\n",
       "      <td>677.750000</td>\n",
       "      <td>1.000000</td>\n",
       "      <td>3.000000</td>\n",
       "      <td>38.000000</td>\n",
       "      <td>1.000000</td>\n",
       "      <td>1.000000</td>\n",
       "      <td>33.375000</td>\n",
       "    </tr>\n",
       "    <tr>\n",
       "      <th>max</th>\n",
       "      <td>891.000000</td>\n",
       "      <td>1.000000</td>\n",
       "      <td>3.000000</td>\n",
       "      <td>80.000000</td>\n",
       "      <td>5.000000</td>\n",
       "      <td>6.000000</td>\n",
       "      <td>512.329200</td>\n",
       "    </tr>\n",
       "  </tbody>\n",
       "</table>\n",
       "</div>"
      ],
      "text/plain": [
       "       PassengerId    Survived      Pclass         Age       SibSp  \\\n",
       "count   714.000000  714.000000  714.000000  714.000000  714.000000   \n",
       "mean    448.582633    0.406162    2.236695   29.699118    0.512605   \n",
       "std     259.119524    0.491460    0.838250   14.526497    0.929783   \n",
       "min       1.000000    0.000000    1.000000    0.420000    0.000000   \n",
       "25%     222.250000    0.000000    1.000000   20.125000    0.000000   \n",
       "50%     445.000000    0.000000    2.000000   28.000000    0.000000   \n",
       "75%     677.750000    1.000000    3.000000   38.000000    1.000000   \n",
       "max     891.000000    1.000000    3.000000   80.000000    5.000000   \n",
       "\n",
       "            Parch        Fare  \n",
       "count  714.000000  714.000000  \n",
       "mean     0.431373   34.694514  \n",
       "std      0.853289   52.918930  \n",
       "min      0.000000    0.000000  \n",
       "25%      0.000000    8.050000  \n",
       "50%      0.000000   15.741700  \n",
       "75%      1.000000   33.375000  \n",
       "max      6.000000  512.329200  "
      ]
     },
     "execution_count": 5,
     "metadata": {},
     "output_type": "execute_result"
    }
   ],
   "source": [
    "#assess/preview the data\n",
    "df.info()\n",
    "df.describe()"
   ]
  },
  {
   "cell_type": "code",
   "execution_count": 6,
   "metadata": {},
   "outputs": [
    {
     "data": {
      "text/plain": [
       "Sex     Survived\n",
       "female  0            64\n",
       "        1           197\n",
       "male    0           360\n",
       "        1            93\n",
       "Name: PassengerId, dtype: int64"
      ]
     },
     "execution_count": 6,
     "metadata": {},
     "output_type": "execute_result"
    }
   ],
   "source": [
    "df.groupby(['Sex', 'Survived', ])['PassengerId'].count()"
   ]
  },
  {
   "cell_type": "code",
   "execution_count": 7,
   "metadata": {},
   "outputs": [
    {
     "data": {
      "text/plain": [
       "Sex     FamilySize    \n",
       "female  With 1 or less    172\n",
       "        With 2             44\n",
       "        With 3 or more     45\n",
       "male    With 1 or less    371\n",
       "        With 2             49\n",
       "        With 3 or more     33\n",
       "Name: FamilySize, dtype: int64"
      ]
     },
     "execution_count": 7,
     "metadata": {},
     "output_type": "execute_result"
    }
   ],
   "source": [
    "df['FamilySize'] = df['Parch'] + df['SibSp']\n",
    "\n",
    "FamilySizeBins = pd.cut(df.FamilySize, [0, 1, 2, 7], labels=('With 1 or less', 'With 2', 'With 3 or more'), include_lowest=True)\n",
    "df.groupby(['Sex', FamilySizeBins])['FamilySize'].count()"
   ]
  },
  {
   "cell_type": "code",
   "execution_count": 6,
   "metadata": {},
   "outputs": [
    {
     "data": {
      "text/plain": [
       "Embarked\n",
       "C    130\n",
       "Q     28\n",
       "S    554\n",
       "Name: PassengerId, dtype: int64"
      ]
     },
     "execution_count": 6,
     "metadata": {},
     "output_type": "execute_result"
    }
   ],
   "source": [
    "df.groupby(['Embarked'])['PassengerId'].count()"
   ]
  },
  {
   "cell_type": "code",
   "execution_count": 9,
   "metadata": {},
   "outputs": [
    {
     "data": {
      "text/plain": [
       "Pclass\n",
       "1    186\n",
       "2    173\n",
       "3    355\n",
       "Name: PassengerId, dtype: int64"
      ]
     },
     "execution_count": 9,
     "metadata": {},
     "output_type": "execute_result"
    }
   ],
   "source": [
    "df.groupby(['Pclass'])['PassengerId'].count()"
   ]
  },
  {
   "cell_type": "code",
   "execution_count": 25,
   "metadata": {},
   "outputs": [
    {
     "name": "stdout",
     "output_type": "stream",
     "text": [
      "max:512.3292\n",
      "min:0.0\n",
      "avg:34.69451400560218\n"
     ]
    },
    {
     "data": {
      "text/plain": [
       "Fare\n",
       "Less expensive than average    535\n",
       "More expensive than average    172\n",
       "Name: PassengerId, dtype: int64"
      ]
     },
     "execution_count": 25,
     "metadata": {},
     "output_type": "execute_result"
    }
   ],
   "source": [
    "minimum = df['Fare'].min() \n",
    "avg = df['Fare'].mean()\n",
    "maximum = df['Fare'].max()\n",
    "\n",
    "print('max:' + str(maximum))\n",
    "print('min:' + str(minimum))\n",
    "print('avg:' + str(avg))\n",
    "\n",
    "\n",
    "FareBins = pd.cut(df.Fare, [minimum, avg, maximum], labels=('Less expensive than average', 'More expensive than average'))\n",
    "\n",
    "df.groupby([FareBins])['PassengerId'].count()"
   ]
  },
  {
   "cell_type": "code",
   "execution_count": 23,
   "metadata": {},
   "outputs": [
    {
     "data": {
      "text/plain": [
       "Survived  AgeGroup\n",
       "0         0-10         26\n",
       "          11-20        71\n",
       "          21-30       146\n",
       "          31-40        86\n",
       "          41-50        53\n",
       "          51-60        25\n",
       "          60+          17\n",
       "1         0-10         38\n",
       "          11-20        44\n",
       "          21-30        84\n",
       "          31-40        69\n",
       "          41-50        33\n",
       "          51-60        17\n",
       "          60+           5\n",
       "Name: PassengerId, dtype: int64"
      ]
     },
     "execution_count": 23,
     "metadata": {},
     "output_type": "execute_result"
    }
   ],
   "source": [
    "AgeGroupBins = ['0-10', '11-20', '21-30', '31-40', '41-50', '51-60', '60+']\n",
    "df['AgeGroup'] = pd.cut(df.Age, [0,10,20,30,40,50,60,float(\"inf\")], labels=AgeGroupBins)       \n",
    "    \n",
    "df.groupby(['Survived', 'AgeGroup'])['PassengerId'].count()"
   ]
  },
  {
   "cell_type": "code",
   "execution_count": 39,
   "metadata": {},
   "outputs": [],
   "source": [
    "#You should assess all the variables provided and anchor on the Survived variable. \n",
    "#As a hint, you should also combine variables. \n",
    "\n",
    "#For example, Were all women equally as likely to survive?"
   ]
  },
  {
   "cell_type": "code",
   "execution_count": 37,
   "metadata": {},
   "outputs": [
    {
     "data": {
      "text/plain": [
       "Survived  Sex     FamilySize    \n",
       "0         female  With 1 or less     35\n",
       "                  With 2              9\n",
       "                  With 3 or more     20\n",
       "          male    With 1 or less    302\n",
       "                  With 2             31\n",
       "                  With 3 or more     27\n",
       "1         female  With 1 or less    137\n",
       "                  With 2             35\n",
       "                  With 3 or more     25\n",
       "          male    With 1 or less     69\n",
       "                  With 2             18\n",
       "                  With 3 or more      6\n",
       "Name: PassengerId, dtype: int64"
      ]
     },
     "execution_count": 37,
     "metadata": {},
     "output_type": "execute_result"
    }
   ],
   "source": [
    "#Or only those with larger families?\n",
    "df.groupby(['Survived', 'Sex', FamilySizeBins])['PassengerId'].count()"
   ]
  },
  {
   "cell_type": "code",
   "execution_count": 38,
   "metadata": {},
   "outputs": [
    {
     "data": {
      "text/plain": [
       "Survived  Sex     AgeGroup\n",
       "0         female  0-10         12\n",
       "                  11-20        12\n",
       "                  21-30        20\n",
       "                  31-40         9\n",
       "                  41-50        10\n",
       "                  51-60         1\n",
       "                  60+           0\n",
       "          male    0-10         14\n",
       "                  11-20        59\n",
       "                  21-30       126\n",
       "                  31-40        77\n",
       "                  41-50        43\n",
       "                  51-60        24\n",
       "                  60+          17\n",
       "1         female  0-10         19\n",
       "                  11-20        34\n",
       "                  21-30        61\n",
       "                  31-40        46\n",
       "                  41-50        21\n",
       "                  51-60        13\n",
       "                  60+           3\n",
       "          male    0-10         19\n",
       "                  11-20        10\n",
       "                  21-30        23\n",
       "                  31-40        23\n",
       "                  41-50        12\n",
       "                  51-60         4\n",
       "                  60+           2\n",
       "Name: PassengerId, dtype: int64"
      ]
     },
     "execution_count": 38,
     "metadata": {},
     "output_type": "execute_result"
    }
   ],
   "source": [
    "#Or only those who were younger?\n",
    "df.groupby(['Survived', 'Sex', 'AgeGroup'])['PassengerId'].count()"
   ]
  },
  {
   "cell_type": "code",
   "execution_count": 44,
   "metadata": {},
   "outputs": [
    {
     "data": {
      "text/plain": [
       "Survived  Pclass  Embarked\n",
       "0         1       C            21\n",
       "                  Q             1\n",
       "                  S            42\n",
       "          2       C             7\n",
       "                  Q             1\n",
       "                  S            82\n",
       "          3       C            23\n",
       "                  Q            18\n",
       "                  S           229\n",
       "1         1       C            53\n",
       "                  Q             1\n",
       "                  S            66\n",
       "          2       C             8\n",
       "                  Q             1\n",
       "                  S            74\n",
       "          3       C            18\n",
       "                  Q             6\n",
       "                  S            61\n",
       "Name: PassengerId, dtype: int64"
      ]
     },
     "execution_count": 44,
     "metadata": {},
     "output_type": "execute_result"
    }
   ],
   "source": [
    "#Is there a cross interaction between survival rate, point of embarkation, and ticket class?\n",
    "df.groupby(['Survived', 'Pclass', 'Embarked'])['PassengerId'].count()"
   ]
  },
  {
   "cell_type": "code",
   "execution_count": 47,
   "metadata": {},
   "outputs": [
    {
     "data": {
      "text/plain": [
       "Survived  SibSp  Parch\n",
       "0         0      0        274\n",
       "                 1         13\n",
       "                 2          6\n",
       "                 4          1\n",
       "                 5          2\n",
       "          1      0         50\n",
       "                 1         23\n",
       "                 2          5\n",
       "                 3          2\n",
       "                 4          3\n",
       "                 5          2\n",
       "                 6          1\n",
       "          2      0         11\n",
       "                 1          1\n",
       "                 2          2\n",
       "          3      1          3\n",
       "                 2          5\n",
       "          4      1          9\n",
       "                 2          6\n",
       "          5      2          5\n",
       "1         0      0        130\n",
       "                 1         24\n",
       "                 2         20\n",
       "                 3          1\n",
       "          1      0         52\n",
       "                 1         31\n",
       "                 2         12\n",
       "                 3          1\n",
       "                 5          1\n",
       "          2      0          2\n",
       "                 1          6\n",
       "                 2          2\n",
       "                 3          1\n",
       "          3      0          2\n",
       "                 2          2\n",
       "          4      2          3\n",
       "Name: PassengerId, dtype: int64"
      ]
     },
     "execution_count": 47,
     "metadata": {},
     "output_type": "execute_result"
    }
   ],
   "source": [
    "#comparing the survival rates betweeen (i) indiivudals with siblings/spouses, and (ii) individuals with parents/children\n",
    "df.groupby(['Survived', 'SibSp', 'Parch'])['PassengerId'].count()"
   ]
  },
  {
   "cell_type": "code",
   "execution_count": 54,
   "metadata": {},
   "outputs": [
    {
     "data": {
      "text/plain": [
       "Survived  Fare                         Pclass\n",
       "0         Less expensive than average  1          22\n",
       "                                       2          81\n",
       "                                       3         254\n",
       "          More expensive than average  1          39\n",
       "                                       2           9\n",
       "                                       3          13\n",
       "1         Less expensive than average  1          23\n",
       "                                       2          74\n",
       "                                       3          81\n",
       "          More expensive than average  1          99\n",
       "                                       2           9\n",
       "                                       3           3\n",
       "Name: PassengerId, dtype: int64"
      ]
     },
     "execution_count": 54,
     "metadata": {},
     "output_type": "execute_result"
    }
   ],
   "source": [
    "#did those who pay more for fare have a higher survival rate (more expensive, more safe)?\n",
    "#did this correlate with ticket class as we should expect?\n",
    "minimum = df['Fare'].min() \n",
    "avg = df['Fare'].mean()\n",
    "maximum = df['Fare'].max()\n",
    "\n",
    "FareBins = pd.cut(df.Fare, [minimum, avg, maximum], labels=('Less expensive than average', 'More expensive than average'))\n",
    "\n",
    "df.groupby(['Survived', FareBins, 'Pclass'])['PassengerId'].count()"
   ]
  }
 ],
 "metadata": {
  "kernelspec": {
   "display_name": "Python 3 (ipykernel)",
   "language": "python",
   "name": "python3"
  },
  "language_info": {
   "codemirror_mode": {
    "name": "ipython",
    "version": 3
   },
   "file_extension": ".py",
   "mimetype": "text/x-python",
   "name": "python",
   "nbconvert_exporter": "python",
   "pygments_lexer": "ipython3",
   "version": "3.10.5"
  },
  "toc": {
   "base_numbering": 1,
   "nav_menu": {},
   "number_sections": false,
   "sideBar": true,
   "skip_h1_title": false,
   "title_cell": "Table of Contents",
   "title_sidebar": "Contents",
   "toc_cell": false,
   "toc_position": {},
   "toc_section_display": true,
   "toc_window_display": false
  }
 },
 "nbformat": 4,
 "nbformat_minor": 4
}
